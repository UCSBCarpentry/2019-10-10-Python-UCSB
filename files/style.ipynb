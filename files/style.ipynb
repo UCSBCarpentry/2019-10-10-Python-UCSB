{
 "cells": [
  {
   "cell_type": "markdown",
   "metadata": {},
   "source": [
    "# Programming style"
   ]
  },
  {
   "cell_type": "markdown",
   "metadata": {},
   "source": [
    "- Style applies to software!\n",
    "- The goal is clarity above all else, though conciseness is often considered desirable.\n",
    "- Very analogous to writing prose.\n",
    "- Expect to iteratively edit/refine/improve as you would text."
   ]
  },
  {
   "cell_type": "markdown",
   "metadata": {},
   "source": [
    "## Two specific suggestions (among many)"
   ]
  },
  {
   "cell_type": "markdown",
   "metadata": {},
   "source": [
    "- Gather `import` statements at the top.\n",
    "-- Analogous to listing ingredients at top of recipe.\n",
    "- Document as you write.\n",
    "-- There will never be a time in your life when you say, \"I have nothing else to do, I think I'll go back and document some of my old work.\"\n",
    "-- This ties directly into the Jupyter philosophy of documenting your research.\n",
    "- Again, expect to refine to achieve greater simplicity and concision.\n",
    "- There are style guides (e.g., https://www.python.org/dev/peps/pep-0008/) but they tend to focus on syntax (how many spaces to indent, etc.), not on clarity, which is more difficult to prescribe."
   ]
  },
  {
   "cell_type": "markdown",
   "metadata": {},
   "source": [
    "## Naming"
   ]
  },
  {
   "cell_type": "markdown",
   "metadata": {},
   "source": [
    "Good variable names, yes, but there's a better, more nuanced principle:\n",
    "\n",
    "**The larger a variable's scope, the more descriptive a name it should have**.\n",
    "\n",
    "Example:"
   ]
  },
  {
   "cell_type": "code",
   "execution_count": null,
   "metadata": {},
   "outputs": [],
   "source": [
    "my_list = [7, 19, -3]\n",
    "sum = 0\n",
    "for v in my_list:\n",
    "    sum += v"
   ]
  },
  {
   "cell_type": "markdown",
   "metadata": {},
   "source": [
    "If `v` is used only in this loop, a single-letter variable is fine.  Calling it `value` or `the_current_value` will not really aid comprehension.  But what `v` were a global variable?"
   ]
  },
  {
   "cell_type": "code",
   "execution_count": null,
   "metadata": {},
   "outputs": [],
   "source": [
    "v = 37 # ??"
   ]
  },
  {
   "cell_type": "markdown",
   "metadata": {},
   "source": [
    "- The difference here is really one of scope.  A variable used only within a small section of code (a loop, a short function) gains a lot of meaning simply from the context it sits in, particularly if the code is following a well-known idiom.\n",
    "- Of course, if the meaning is not obvious from the context, then a better/longer name is warranted regardless of the scope.\n",
    "- Functions have large scope, since they can be called from anywhere, hence should have descriptive names.  Consider if not:"
   ]
  },
  {
   "cell_type": "code",
   "execution_count": null,
   "metadata": {},
   "outputs": [],
   "source": [
    "def xa(xb, xc, xd):\n",
    "    xe = str(xb) + \"/\" + str(xc) + \"/\" + str(xd)\n",
    "    print(xe)"
   ]
  },
  {
   "cell_type": "markdown",
   "metadata": {},
   "source": [
    "A meaningful name really helps:"
   ]
  },
  {
   "cell_type": "code",
   "execution_count": null,
   "metadata": {},
   "outputs": [],
   "source": [
    "def print_date(xb, xc, xd):\n",
    "    xe = str(xb) + \"/\" + str(xc) + \"/\" + str(xd)\n",
    "    print(xe)"
   ]
  },
  {
   "cell_type": "markdown",
   "metadata": {},
   "source": [
    "But that's not really enough.  The arguments, i.e., the calling signature, are essential parts of a function's \"name.\""
   ]
  },
  {
   "cell_type": "code",
   "execution_count": null,
   "metadata": {},
   "outputs": [],
   "source": [
    "def print_date(year, month, day):\n",
    "    joined = str(year) + \"/\" + str(month) + \"/\" + str(day)\n",
    "    print(joined)"
   ]
  },
  {
   "cell_type": "markdown",
   "metadata": {},
   "source": [
    "The scope for `joined` is small.  A single-letter variable would not really diminish clarity here."
   ]
  },
  {
   "cell_type": "code",
   "execution_count": null,
   "metadata": {},
   "outputs": [],
   "source": [
    "def print_date(year, month, day):\n",
    "    s = str(year) + \"/\" + str(month) + \"/\" + str(day)\n",
    "    print(s)"
   ]
  },
  {
   "cell_type": "markdown",
   "metadata": {},
   "source": [
    "In an editing pass, we might notice that `s` serves little purpose."
   ]
  },
  {
   "cell_type": "code",
   "execution_count": null,
   "metadata": {},
   "outputs": [],
   "source": [
    "def print_date(year, month, day):\n",
    "    print(str(year) + \"/\" + str(month) + \"/\" + str(day))"
   ]
  },
  {
   "cell_type": "markdown",
   "metadata": {},
   "source": [
    "## Documentation\n",
    "- Document first and foremost for yourself.\n",
    "-- Don't think of it as a burden/duty to help others, think of it as a selfish benefit.\n",
    "- \"Docstrings\" tie help into Python's help system."
   ]
  },
  {
   "cell_type": "code",
   "execution_count": null,
   "metadata": {},
   "outputs": [],
   "source": [
    "def print_date(year, month, day):\n",
    "    \"Prints the date in Y/M/D format.\"\n",
    "    print(str(year) + \"/\" + str(month) + \"/\" + str(day))"
   ]
  },
  {
   "cell_type": "code",
   "execution_count": null,
   "metadata": {},
   "outputs": [],
   "source": [
    "help(print_date)"
   ]
  },
  {
   "cell_type": "markdown",
   "metadata": {},
   "source": [
    "Use triple quotes for multiline strings."
   ]
  },
  {
   "cell_type": "code",
   "execution_count": null,
   "metadata": {},
   "outputs": [],
   "source": [
    "def print_date(year, month, day):\n",
    "    \"\"\"Prints the date\n",
    "    in Y/M/D format.\"\"\"\n",
    "    print(str(year) + \"/\" + str(month) + \"/\" + str(day))"
   ]
  },
  {
   "cell_type": "markdown",
   "metadata": {},
   "source": [
    "## Assertions"
   ]
  },
  {
   "cell_type": "markdown",
   "metadata": {},
   "source": [
    "- An assertion raises an exception if a condition is not satisfied.\n",
    "- Appropriate for catching programming errors, not so much for user entry errors."
   ]
  },
  {
   "cell_type": "code",
   "execution_count": null,
   "metadata": {},
   "outputs": [],
   "source": [
    "def calc_bulk_density(mass, volume):\n",
    "    \"Return dry bulk density = powder mass / powder volume.\"\"\"\n",
    "    assert volume > 0\n",
    "    return mass/volume"
   ]
  },
  {
   "cell_type": "code",
   "execution_count": null,
   "metadata": {},
   "outputs": [],
   "source": [
    "calc_bulk_density(2.5, -3)"
   ]
  },
  {
   "cell_type": "markdown",
   "metadata": {},
   "source": [
    "Assertions are particularly useful for checking that arguments have the expected type and meet whatever other criteria are expected of them.  Without assertions, Python blithely charges on."
   ]
  },
  {
   "cell_type": "code",
   "execution_count": null,
   "metadata": {},
   "outputs": [],
   "source": [
    "print_date(2.7, False, [19, \"what the?!\"])"
   ]
  },
  {
   "cell_type": "code",
   "execution_count": null,
   "metadata": {},
   "outputs": [],
   "source": [
    "def print_date(year, month, day):\n",
    "    \"Prints the date in Y/M/D format.  Arguments should be integers.\"\n",
    "    assert type(year) == type(month) == type(day) == int\n",
    "    print(str(year) + \"/\" + str(month) + \"/\" + str(day))"
   ]
  },
  {
   "cell_type": "code",
   "execution_count": null,
   "metadata": {},
   "outputs": [],
   "source": [
    "print_date(2.7, False, [19, \"what the?!\"])"
   ]
  },
  {
   "cell_type": "markdown",
   "metadata": {},
   "source": [
    "You can add a custom message to assertions."
   ]
  },
  {
   "cell_type": "code",
   "execution_count": null,
   "metadata": {},
   "outputs": [],
   "source": [
    "def print_date(year, month, day):\n",
    "    \"Prints the date in Y/M/D format.  Arguments should be integers.\"\n",
    "    assert type(year) == type(month) == type(day) == int, \"bad argument type, expecting an int\"\n",
    "    assert year > 0, \"bad year\"\n",
    "    assert 1 <= month <= 12, \"bad month\"\n",
    "    print(str(year) + \"/\" + str(month) + \"/\" + str(day))"
   ]
  },
  {
   "cell_type": "code",
   "execution_count": null,
   "metadata": {},
   "outputs": [],
   "source": [
    "print_date(2.7, False, [19, \"what the?!\"])"
   ]
  },
  {
   "cell_type": "markdown",
   "metadata": {},
   "source": [
    "## Exercise\n",
    "The following code prints the sum of the squares of a list of numbers.  See if you can simplify it to make it clearer.  The focus here is not on variable names, but on the structure of the code.  Bonus points if you can rewrite the code using a one-line list comprehension."
   ]
  },
  {
   "cell_type": "code",
   "execution_count": null,
   "metadata": {},
   "outputs": [],
   "source": [
    "my_list = [3, 5, -19]\n",
    "answer = None # don't know it yet\n",
    "length_of_list = len(my_list)\n",
    "list_of_squares = []\n",
    "for index in range(0, length_of_list):\n",
    "    value = my_list[index]\n",
    "    square = value*value\n",
    "    list_of_squares.append(square)\n",
    "the_sum = 0\n",
    "for square_value in list_of_squares:\n",
    "    the_sum = the_sum + square_value\n",
    "answer = the_sum\n",
    "print(answer)"
   ]
  },
  {
   "cell_type": "code",
   "execution_count": null,
   "metadata": {},
   "outputs": [],
   "source": [
    "my_list = [3, 5, -19]\n",
    "print(sum([v*v for v in my_list]))"
   ]
  },
  {
   "cell_type": "markdown",
   "metadata": {},
   "source": [
    "Consider: if you weren't told in advance what the above code did, and had to discover for yourself, which version would you rather read?"
   ]
  }
 ],
 "metadata": {
  "kernelspec": {
   "display_name": "Python 3",
   "language": "python",
   "name": "python3"
  },
  "language_info": {
   "codemirror_mode": {
    "name": "ipython",
    "version": 3
   },
   "file_extension": ".py",
   "mimetype": "text/x-python",
   "name": "python",
   "nbconvert_exporter": "python",
   "pygments_lexer": "ipython3",
   "version": "3.7.3"
  }
 },
 "nbformat": 4,
 "nbformat_minor": 4
}
